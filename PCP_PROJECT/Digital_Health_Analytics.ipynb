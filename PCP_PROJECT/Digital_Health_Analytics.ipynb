{
 "cells": [
  {
   "cell_type": "code",
   "execution_count": 9,
   "id": "0f2f1da8",
   "metadata": {},
   "outputs": [],
   "source": [
    "import Final_PCP_Solution_Project"
   ]
  },
  {
   "cell_type": "code",
   "execution_count": 10,
   "id": "e3071cf0",
   "metadata": {},
   "outputs": [],
   "source": [
    "from Final_PCP_Solution_Project import QueryModule, UserInterface"
   ]
  },
  {
   "cell_type": "code",
   "execution_count": 11,
   "id": "06bca580",
   "metadata": {},
   "outputs": [],
   "source": [
    "from Final_PCP_Solution_Project import clinical_data"
   ]
  },
  {
   "cell_type": "code",
   "execution_count": 12,
   "id": "8b576ddc",
   "metadata": {},
   "outputs": [],
   "source": [
    "query_module = QueryModule(clinical_data)"
   ]
  },
  {
   "cell_type": "code",
   "execution_count": 13,
   "id": "7423b06f",
   "metadata": {},
   "outputs": [],
   "source": [
    "user_interface = UserInterface(query_module)"
   ]
  },
  {
   "cell_type": "code",
   "execution_count": 14,
   "id": "d9959356",
   "metadata": {},
   "outputs": [
    {
     "name": "stdout",
     "output_type": "stream",
     "text": [
      "1. Age statistics for Patients whose heart failure resulted to death\n",
      "2. Average Time taken for patients whose heart failure did not result to death\n",
      "3. Age Statistics for Patients with High Blood Pressure\n",
      "4. Age Statistics for for Patients with diatetes\n",
      "5. Statistics for diabetes linked to smoking and High Blood Pressure\n",
      "6. Statistics for average serum sodium of Patients with diabetes\n",
      "7. Statistics for anaemia linked to smoking\n",
      "8. Statistics for no High Blood Pressure death record\n",
      "Enter your choice (or 'q' to quit): 1\n",
      "Metric         Value\n",
      "-----------  -------\n",
      "Average Age  65.2083\n",
      "Modal Age    60\n",
      "Median Age   65\n",
      "Results saved to 'query_solution_death_output.csv'\n",
      "1. Age statistics for Patients whose heart failure resulted to death\n",
      "2. Average Time taken for patients whose heart failure did not result to death\n",
      "3. Age Statistics for Patients with High Blood Pressure\n",
      "4. Age Statistics for for Patients with diatetes\n",
      "5. Statistics for diabetes linked to smoking and High Blood Pressure\n",
      "6. Statistics for average serum sodium of Patients with diabetes\n",
      "7. Statistics for anaemia linked to smoking\n",
      "8. Statistics for no High Blood Pressure death record\n",
      "Enter your choice (or 'q' to quit): 2\n",
      "Metric                                            Value\n",
      "----------------------------------------------  -------\n",
      "Average time heart failure not result to death   158.34\n",
      "Results saved to 'query_solution_time_not_death_output.csv'\n",
      "1. Age statistics for Patients whose heart failure resulted to death\n",
      "2. Average Time taken for patients whose heart failure did not result to death\n",
      "3. Age Statistics for Patients with High Blood Pressure\n",
      "4. Age Statistics for for Patients with diatetes\n",
      "5. Statistics for diabetes linked to smoking and High Blood Pressure\n",
      "6. Statistics for average serum sodium of Patients with diabetes\n",
      "7. Statistics for anaemia linked to smoking\n",
      "8. Statistics for no High Blood Pressure death record\n",
      "Enter your choice (or 'q' to quit): 3\n",
      "Metric         Value\n",
      "-----------  -------\n",
      "Average Age  62.3333\n",
      "Modal Age    70\n",
      "Median Age   62\n",
      "Results saved to 'query_solution_High_blood_pressure_output.csv'\n",
      "1. Age statistics for Patients whose heart failure resulted to death\n",
      "2. Average Time taken for patients whose heart failure did not result to death\n",
      "3. Age Statistics for Patients with High Blood Pressure\n",
      "4. Age Statistics for for Patients with diatetes\n",
      "5. Statistics for diabetes linked to smoking and High Blood Pressure\n",
      "6. Statistics for average serum sodium of Patients with diabetes\n",
      "7. Statistics for anaemia linked to smoking\n",
      "8. Statistics for no High Blood Pressure death record\n",
      "Enter your choice (or 'q' to quit): 4\n",
      "Metric         Value\n",
      "-----------  -------\n",
      "Average Age   59.408\n",
      "Modal Age     60\n",
      "Median Age    60\n",
      "Results saved to 'query_solution_diabetes_output.csv'\n",
      "1. Age statistics for Patients whose heart failure resulted to death\n",
      "2. Average Time taken for patients whose heart failure did not result to death\n",
      "3. Age Statistics for Patients with High Blood Pressure\n",
      "4. Age Statistics for for Patients with diatetes\n",
      "5. Statistics for diabetes linked to smoking and High Blood Pressure\n",
      "6. Statistics for average serum sodium of Patients with diabetes\n",
      "7. Statistics for anaemia linked to smoking\n",
      "8. Statistics for no High Blood Pressure death record\n",
      "Enter your choice (or 'q' to quit): 5\n",
      "Metric                                      Value\n",
      "------------------------------------------  -------\n",
      "Number of diabetes link to smoking and HBP  True\n",
      "Results saved to 'query_solution_diabetes_Link_Smoking_HBP_output.csv'\n",
      "1. Age statistics for Patients whose heart failure resulted to death\n",
      "2. Average Time taken for patients whose heart failure did not result to death\n",
      "3. Age Statistics for Patients with High Blood Pressure\n",
      "4. Age Statistics for for Patients with diatetes\n",
      "5. Statistics for diabetes linked to smoking and High Blood Pressure\n",
      "6. Statistics for average serum sodium of Patients with diabetes\n",
      "7. Statistics for anaemia linked to smoking\n",
      "8. Statistics for no High Blood Pressure death record\n",
      "Enter your choice (or 'q' to quit): 6\n",
      "Metric                                             Value\n",
      "-----------------------------------------------  -------\n",
      "Average Serum Sodium for Patients with Diabetes   136.16\n",
      "Results saved to 'query_solution_average_serum_sodium_diabetes_output.csv'\n",
      "1. Age statistics for Patients whose heart failure resulted to death\n",
      "2. Average Time taken for patients whose heart failure did not result to death\n",
      "3. Age Statistics for Patients with High Blood Pressure\n",
      "4. Age Statistics for for Patients with diatetes\n",
      "5. Statistics for diabetes linked to smoking and High Blood Pressure\n",
      "6. Statistics for average serum sodium of Patients with diabetes\n",
      "7. Statistics for anaemia linked to smoking\n",
      "8. Statistics for no High Blood Pressure death record\n",
      "Enter your choice (or 'q' to quit): q\n",
      "Exiting the system. Goodbye!\n"
     ]
    }
   ],
   "source": [
    "user_interface.main()"
   ]
  },
  {
   "cell_type": "code",
   "execution_count": null,
   "id": "c743bee1",
   "metadata": {},
   "outputs": [],
   "source": []
  }
 ],
 "metadata": {
  "kernelspec": {
   "display_name": "Python 3 (ipykernel)",
   "language": "python",
   "name": "python3"
  },
  "language_info": {
   "codemirror_mode": {
    "name": "ipython",
    "version": 3
   },
   "file_extension": ".py",
   "mimetype": "text/x-python",
   "name": "python",
   "nbconvert_exporter": "python",
   "pygments_lexer": "ipython3",
   "version": "3.9.12"
  }
 },
 "nbformat": 4,
 "nbformat_minor": 5
}
